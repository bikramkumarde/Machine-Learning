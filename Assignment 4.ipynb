{
 "cells": [
  {
   "cell_type": "code",
   "execution_count": 20,
   "metadata": {},
   "outputs": [],
   "source": [
    "import pandas as pd\n",
    "import numpy as np\n",
    "from sklearn.preprocessing import Imputer\n",
    "import matplotlib.pyplot as plt"
   ]
  },
  {
   "cell_type": "code",
   "execution_count": 21,
   "metadata": {},
   "outputs": [],
   "source": [
    "#---------------------------- High dimensional Gaussian Data --------------------------------------\n",
    "dataset = pd.read_csv('dim032.csv', header = None)\n",
    "dataset = dataset.values"
   ]
  },
  {
   "cell_type": "code",
   "execution_count": 30,
   "metadata": {},
   "outputs": [
    {
     "name": "stderr",
     "output_type": "stream",
     "text": [
      "C:\\Users\\Bikram Kumar De\\Anaconda3\\lib\\site-packages\\sklearn\\utils\\deprecation.py:66: DeprecationWarning: Class Imputer is deprecated; Imputer was deprecated in version 0.20 and will be removed in 0.22. Import impute.SimpleImputer from sklearn instead.\n",
      "  warnings.warn(msg, category=DeprecationWarning)\n"
     ]
    }
   ],
   "source": [
    "#------------------------------- Water Treatment Data ----------------------------------------------\n",
    "\n",
    "dataset = pd.read_csv('water-treatment.csv', header = None)\n",
    "dataset = dataset.replace('?', np.NaN)   #replacing missing values ? with NaN\n",
    "dataset = dataset.values\n",
    "dataset = pd.DataFrame(data = dataset)\n",
    "dataset.to_csv('Trial1.csv', index = None)\n",
    "dataset = pd.read_csv('Trial1.csv')\n",
    "dataset = dataset.drop(['0'], axis = 1)   #removing first column from the dataset\n",
    "dataset.values\n",
    "imputer = Imputer()\n",
    "dataset = imputer.fit_transform(dataset)   #replacing NaN with the average value of that column\n",
    "dataset = pd.DataFrame(data = dataset)\n",
    "dataset.to_csv('FinalData.csv', index = None)\n",
    "dataset = pd.read_csv('FinalData.csv')\n",
    "dataset = dataset.values\n"
   ]
  },
  {
   "cell_type": "code",
   "execution_count": 22,
   "metadata": {},
   "outputs": [],
   "source": [
    "#--------------------------------------- Initializing Lambda ----------------------------------------\n",
    "X, Y = dataset.shape\n",
    "Lambda_def = 0\n",
    "for i in range(0, X):\n",
    "    for j in range(0, i):\n",
    "        dist = np.linalg.norm(dataset[i]-dataset[j])            #Calculating the maximum distance between all points\n",
    "        if(dist>Lambda_def):\n",
    "            Lambda_def = dist\n",
    "Lambda_def = int(round(Lambda_def, -1))              #rounding to nearest 10th digit"
   ]
  },
  {
   "cell_type": "code",
   "execution_count": 23,
   "metadata": {},
   "outputs": [],
   "source": [
    "def train(Lambda, FinalList):\n",
    "    X, Y = dataset.shape\n",
    "    DataList =[[]for i in range (0,10000)]  #list of lists containing data of each clusters\n",
    "    ClusterCount = len(FinalList)\n",
    "    avg_var = 0\n",
    "    ClusterIndex = 0   \n",
    "    for i in range(0, X):\n",
    "        min_dist = 10000\n",
    "        row_current = dataset[i]\n",
    "        iterCount = 0\n",
    "        for rows in FinalList:\n",
    "            dist = np.linalg.norm(row_current-rows)      #this function finds euclidean distance between the two points\n",
    "            if(dist<min_dist):\n",
    "                min_dist = dist\n",
    "                ClusterIndex = iterCount\n",
    "            iterCount += 1\n",
    "            \n",
    "        if (min_dist <= Lambda):\n",
    "            DataList[ClusterIndex].append(row_current)           #storing the entries of a particular cluster\n",
    "        else:\n",
    "            ClusterCount += 1\n",
    "            DataList[ClusterCount-1].append(row_current)\n",
    "            FinalList.append(row_current)                    #creating new cluster center\n",
    "            \n",
    "    equal_count = 0\n",
    "    for i in range(0, ClusterCount):\n",
    "        temp = np.mean(DataList[i], axis = 0)\n",
    "        if (temp == FinalList[i]).all():               #checking if cluster centers remain same\n",
    "            equal_count += 1\n",
    "        else:\n",
    "            FinalList[i] = temp\n",
    "            \n",
    "    if(equal_count != ClusterCount and (equal_count+1) != ClusterCount):   #checking converging condition\n",
    "        (ClusterCount, avg_var) = train(Lambda, FinalList)\n",
    "    else:                                             # if converged\n",
    "        avg_var = 0\n",
    "        for j in range(0, ClusterCount):\n",
    "            diff_arr = []\n",
    "            if(DataList[j] != []):\n",
    "                for rows in DataList[j]:\n",
    "                    diff = np.linalg.norm(rows-FinalList[j])\n",
    "                    diff_arr.append(diff)\n",
    "                var = np.var(diff_arr)\n",
    "                avg_var += var\n",
    "        avg_var = avg_var/float(ClusterCount)        #finding the average variance\n",
    "        return int(ClusterCount), float(avg_var)\n",
    "    return ClusterCount, float(avg_var)"
   ]
  },
  {
   "cell_type": "code",
   "execution_count": null,
   "metadata": {},
   "outputs": [],
   "source": [
    "# Alternate train method.\n",
    "# Only difference is in how to store which points belongs to which particular cluster.\n",
    "# Both the implementations are correct and yield the same results\n",
    "'''\n",
    "def train(Lambda, FinalList):\n",
    "    X, Y = dataset.shape\n",
    "    r = np.zeros(X)\n",
    "    ClusterCount = len(FinalList)\n",
    "    avg_var = 0\n",
    "    ClusterIndex = 0   \n",
    "    for i in range(0, X):\n",
    "        min_dist = 10000\n",
    "        row_current = dataset[i]\n",
    "        iterCount = 0\n",
    "        for rows in FinalList:\n",
    "            dist = np.linalg.norm(row_current-rows)      #this function finds euclidean distance between the two points\n",
    "            if(dist<min_dist):\n",
    "                min_dist = dist\n",
    "                ClusterIndex = iterCount\n",
    "            iterCount += 1\n",
    "            \n",
    "        if (min_dist <= Lambda):\n",
    "            r[i] = ClusterIndex \n",
    "        else:\n",
    "            ClusterCount += 1\n",
    "            r[i] = ClusterCount-1\n",
    "            FinalList.append(row_current)                    #creating new cluster center\n",
    "            \n",
    "    equal_count = 0\n",
    "    for i in range(0, ClusterCount):\n",
    "        tempList = []\n",
    "        for j in range(0, X):\n",
    "            if (r[j] == i):\n",
    "                tempList.append(dataset[j])\n",
    "        temp = np.mean(tempList, axis = 0)\n",
    "        if (temp == FinalList[i]).all():               #checking if cluster centers remain same\n",
    "            equal_count += 1\n",
    "        else:\n",
    "            FinalList[i] = temp\n",
    "            \n",
    "    if(equal_count != ClusterCount and (equal_count+1) != ClusterCount):   #checking converging condition\n",
    "        (ClusterCount, avg_var) = train(Lambda, FinalList)\n",
    "    else:                                             # if converged\n",
    "        avg_var = 0\n",
    "        for i in range(0, ClusterCount):\n",
    "            diff_arr = []\n",
    "            tempList = []\n",
    "            for j in range(0, X):\n",
    "                if (r[j] == i):\n",
    "                    diff = np.linalg.norm(dataset[j]-FinalList[i])\n",
    "                    diff_arr.append(diff)\n",
    "            var = np.var(diff_arr)\n",
    "            avg_var += var\n",
    "        avg_var = avg_var/float(ClusterCount)        #finding the average variance\n",
    "        return int(ClusterCount), float(avg_var)\n",
    "    return ClusterCount, float(avg_var)\n",
    "    \n",
    "'''    "
   ]
  },
  {
   "cell_type": "code",
   "execution_count": 26,
   "metadata": {},
   "outputs": [
    {
     "name": "stdout",
     "output_type": "stream",
     "text": [
      "10\n",
      "30\n",
      "50\n",
      "70\n",
      "90\n",
      "110\n",
      "130\n",
      "150\n",
      "170\n",
      "190\n",
      "210\n",
      "230\n",
      "250\n",
      "270\n",
      "290\n",
      "310\n",
      "330\n",
      "350\n",
      "370\n",
      "390\n",
      "410\n",
      "430\n",
      "450\n",
      "470\n",
      "490\n",
      "510\n",
      "530\n",
      "550\n",
      "570\n",
      "590\n"
     ]
    }
   ],
   "source": [
    "def predict():\n",
    "    Lambda_arr = []\n",
    "    Cluster_arr = []\n",
    "    Variance_arr = []\n",
    "    for Lambda in range(10, Lambda_def, 20):\n",
    "        print(Lambda)\n",
    "        FinalList_trial= []\n",
    "        list_initial = np.mean(dataset, axis = 0)\n",
    "        FinalList_trial.append(list_initial)\n",
    "        (ClusterTotal, Variance_avg) = train(Lambda, FinalList_trial)\n",
    "        Cluster_arr.append(ClusterTotal)\n",
    "        Lambda_arr.append(Lambda)\n",
    "        Variance_arr.append(Variance_avg)\n",
    "    return Lambda_arr, Cluster_arr, Variance_arr  \n",
    "Lambda_arr, Cluster_arr, Variance_arr = predict()  "
   ]
  },
  {
   "cell_type": "code",
   "execution_count": 27,
   "metadata": {},
   "outputs": [],
   "source": [
    "#----------------------------- Calculating knee of Curve --------------------------------------------------------\n",
    "prev_Cluster = Cluster_arr[0]\n",
    "prev_Lambda = Lambda_arr[0]\n",
    "prev_Variance = Variance_arr[0]\n",
    "max_slope_Cluster_change = 0\n",
    "max_slope_Variance_change = 0\n",
    "prev_Cluster_slope = -34 # for high dimension gaussian dataset\n",
    "\n",
    "prev_Variance_slope = 0\n",
    "knee_Cluster = 0\n",
    "knee_Lambda_Cluster = 0\n",
    "knee_Lambda_Variance = 0\n",
    "knee_Variance = 0\n",
    "\n",
    "for j in range (1, len(Lambda_arr)):\n",
    "    current_Cluster = Cluster_arr[j]\n",
    "    current_Lambda = Lambda_arr[j]\n",
    "    current_Variance = Variance_arr[j]\n",
    "    \n",
    "    current_Cluster_slope = ((current_Cluster - prev_Cluster)/(current_Lambda-prev_Lambda))\n",
    "    slope_Cluster_diff = abs((current_Cluster_slope - prev_Cluster_slope)/(current_Lambda-prev_Lambda))\n",
    "    \n",
    "    if (slope_Cluster_diff >= max_slope_Cluster_change):\n",
    "        max_slope_Cluster_change = slope_Cluster_diff\n",
    "        knee_Cluster = current_Cluster\n",
    "        knee_Lambda_Cluster = current_Lambda\n",
    "        \n",
    "    current_Variance_slope = ((current_Variance - prev_Variance)/(current_Lambda-prev_Lambda))\n",
    "    slope_Variance_diff = abs((current_Variance_slope - prev_Variance_slope)/(current_Lambda-prev_Lambda))\n",
    "        \n",
    "    if (slope_Variance_diff >= max_slope_Variance_change):\n",
    "        max_slope_Variance_change = slope_Variance_diff\n",
    "        knee_Variance = current_Variance\n",
    "        knee_Lambda_Variance = current_Lambda         \n",
    "        \n",
    "    prev_Cluster = current_Cluster\n",
    "    prev_Lambda = current_Lambda\n",
    "    prev_Variance_slope = current_Variance_slope\n",
    "    \n",
    "    prev_Variance = current_Variance\n",
    "    prev_Lambda_Cluster = current_Lambda\n",
    "    prev_Cluster_slope = current_Cluster_slope"
   ]
  },
  {
   "cell_type": "code",
   "execution_count": 28,
   "metadata": {},
   "outputs": [
    {
     "data": {
      "image/png": "[encoded data removed]",
      "text/plain": [
       "<Figure size 432x288 with 1 Axes>"
      ]
     },
     "metadata": {
      "needs_background": "light"
     },
     "output_type": "display_data"
    }
   ],
   "source": [
    "#-------------------------------- Plotting Avg variance vs Lambda ----------------------------------------\n",
    "plt.title('Clustering Graph')\n",
    "plt.plot(Lambda_arr, Variance_arr, 'b')\n",
    "plt.plot(knee_Lambda_Variance, knee_Variance,'ro', label = 'Cluster Count = %f' %knee_Cluster)\n",
    "plt.xlabel('Lambda')\n",
    "plt.ylabel('Avg Variance of Intra cluster distance')\n",
    "plt.show()"
   ]
  },
  {
   "cell_type": "code",
   "execution_count": 29,
   "metadata": {},
   "outputs": [
    {
     "data": {
      "image/png": "[encoded data removed]",
      "text/plain": [
       "<Figure size 432x288 with 1 Axes>"
      ]
     },
     "metadata": {
      "needs_background": "light"
     },
     "output_type": "display_data"
    }
   ],
   "source": [
    "#-------------------------------- Plotting No of Clusters vs Lambda -----------------------------\n",
    "plt.title('Clustering Graph')\n",
    "plt.plot(Lambda_arr, Cluster_arr, 'b')\n",
    "plt.plot(knee_Lambda_Cluster, knee_Cluster,'ro', label = 'Cluster Count = %f' %knee_Cluster)\n",
    "plt.xlabel('Lambda')\n",
    "plt.ylabel('No. of Clusters')\n",
    "plt.show()"
   ]
  },
  {
   "cell_type": "code",
   "execution_count": null,
   "metadata": {},
   "outputs": [],
   "source": []
  }
 ],
 "metadata": {
  "kernelspec": {
   "display_name": "Python 3",
   "language": "python",
   "name": "python3"
  },
  "language_info": {
   "codemirror_mode": {
    "name": "ipython",
    "version": 3
   },
   "file_extension": ".py",
   "mimetype": "text/x-python",
   "name": "python",
   "nbconvert_exporter": "python",
   "pygments_lexer": "ipython3",
   "version": "3.7.3"
  }
 },
 "nbformat": 4,
 "nbformat_minor": 2
}
