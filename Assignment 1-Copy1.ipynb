{
 "cells": [
  {
   "cell_type": "code",
   "execution_count": 44,
   "metadata": {},
   "outputs": [],
   "source": [
    "import anytree\n",
    "import sklearn\n",
    "import numpy as np\n",
    "import matplotlib.pyplot as plt\n",
    "import pandas as pd\n",
    "import glob\n",
    "import os\n",
    "import math\n",
    "import copy\n",
    "\n",
    "from sklearn.metrics import accuracy_score\n",
    "from sklearn.metrics import precision_score\n",
    "from sklearn.metrics import recall_score\n",
    "from sklearn.metrics import f1_score\n",
    "from sklearn.metrics import roc_curve\n",
    "from sklearn.metrics import precision_recall_curve\n",
    "from sklearn.metrics import auc\n",
    "\n"
   ]
  },
  {
   "cell_type": "code",
   "execution_count": 67,
   "metadata": {},
   "outputs": [],
   "source": [
    "training_data = pd.read_csv('training_1.csv')\n",
    "validation_data = pd.read_csv('validation_1.csv')\n",
    "test_data = pd.read_csv('testing_1.csv')\n"
   ]
  },
  {
   "cell_type": "code",
   "execution_count": 68,
   "metadata": {},
   "outputs": [],
   "source": [
    "def calculateGini(p1):\n",
    "    gini = 2*p1*(1-p1)      #calculating gini; formula derivation shown in documentation\n",
    "    return gini\n"
   ]
  },
  {
   "cell_type": "code",
   "execution_count": 69,
   "metadata": {},
   "outputs": [],
   "source": [
    "def calculateEntropy(p1):\n",
    "    entropy = -1*((p1*math.log2(p1))+((1-p1)*math.log2(1-p1)))  #function for calculating entropy; not used in this code\n",
    "    return entropy"
   ]
  },
  {
   "cell_type": "code",
   "execution_count": 70,
   "metadata": {},
   "outputs": [],
   "source": [
    "def calculateInfoGain(left_p1, right_p1, left_total, right_total, root_p1):\n",
    "    left_weight = left_total/(left_total+right_total)       #calculating the weight of left subtree\n",
    "    right_weight = right_total/(left_total+right_total)   #calculating the weight of right subtree\n",
    "    \n",
    "    left_gini = calculateGini(left_p1)\n",
    "    right_gini = calculateGini(right_p1)\n",
    "    weighted_gini = left_weight*left_gini + right_weight*right_gini    #calculating the weighted gini\n",
    "    root_gini = calculateGini(root_p1)            #calculating gini of parent\n",
    "    gain_gini = root_gini - weighted_gini       #calculating the gain in gini\n",
    "    \n",
    "#    left_entropy = calculateEntropy(left_p1)\n",
    "#    right_entropy = calculateEntropy(right_p1)\n",
    "#    weighted_entropy = left_weight*left_entropy + right_weight*right_entropy\n",
    "#    root_entropy = calculateEntropy(root_p1)\n",
    "#    gain_entropy = root_entropy - weighted_entropy\n",
    "    \n",
    "    return gain_gini\n",
    "    #return gain_entropy"
   ]
  },
  {
   "cell_type": "code",
   "execution_count": 71,
   "metadata": {},
   "outputs": [],
   "source": [
    "def computeOptimalSplit(data):           #this function return the position and value of the cell on whose basis data\n",
    "    max_gain = 0                         #        split such that gain is maximum\n",
    "    X,Y = data.shape\n",
    "    temp_gain = K = J = max_val = 0\n",
    "    count = 0\n",
    "    data_array = data.values     #creating numpy array from dataframe\n",
    "    for j in range (1,Y):    #looping on all features(columns)\n",
    "        for i in range(0,X):     #looping on all rows\n",
    "            value = data_array[i,j]\n",
    "            left_class0 = left_class1 = right_class0 = right_class1 = 0\n",
    "            for k in range(0,X):                              \n",
    "                temp_data = data_array[k,j]\n",
    "                count += 1\n",
    "                if (temp_data<=value):\n",
    "                    if (data_array[k,0] ==0):\n",
    "                        left_class0 += 1         #getting the number of instances in left subtree which are of class 0\n",
    "                    else:\n",
    "                        left_class1 += 1        #getting the number of instances in left subtree which are of class 1\n",
    "                else:\n",
    "                    if (data_array[k,0]==0):\n",
    "                        right_class0 += 1       #getting the number of instances in right subtree which are of class 0\n",
    "                    else:\n",
    "                        right_class1 += 1        #getting the number of instances in left subtree which are of class 1\n",
    "            left_total = left_class0 + left_class1   #getting total number of instances in left subtree \n",
    "            right_total = right_class0 + right_class1  #getting total number of instances in right subtree \n",
    "            if(left_total != 0 and right_total != 0):\n",
    "                left_p1 = left_class0/left_total     # getting probability of class 0 in left subtree\n",
    "                right_p1 = right_class0/right_total  # getting probability of class 0 in right subtree\n",
    "                root_p1 = (left_class0 + right_class0)/(left_total + right_total)   #for calculating info gain of parent\n",
    "                temp_gain = calculateInfoGain(left_p1, right_p1, left_total, right_total, root_p1)  #calculating total gain\n",
    "            else:\n",
    "                temp_gain = -1\n",
    "            if (temp_gain > max_gain):\n",
    "                max_gain = temp_gain      #evaluating the maximum gain among all nodes\n",
    "                K = i\n",
    "                J = j                #K and J are the x-y coordinates of the value in data array whose gain is max\n",
    "                max_val = value     # max_value is the corresponding value of the cell\n",
    "    return K, J, max_val               \n",
    "            \n",
    "                    \n",
    "                        \n",
    "            \n"
   ]
  },
  {
   "cell_type": "code",
   "execution_count": 72,
   "metadata": {},
   "outputs": [],
   "source": [
    "def stoppingCond(data):             #this function inputs the dataframe from a node and tells whether the node is pure\n",
    "    I,J = data.shape\n",
    "    data_array = data.values\n",
    "    sum1 = 0\n",
    "    product = 1\n",
    "    for i in range (0,I):\n",
    "        sum1 = sum1 + data_array[i,0]          # reason for calculating sum and product given in documentation\n",
    "        product = product * data_array[i,0]\n",
    "    if ((sum1 == 0) or (product == 1)):             #it checks whether all the class values are either 0 or 1\n",
    "        return True\n",
    "    else:\n",
    "        return False\n",
    "    \n",
    "    \n",
    "    \n",
    "    \n",
    "        "
   ]
  },
  {
   "cell_type": "code",
   "execution_count": 73,
   "metadata": {},
   "outputs": [],
   "source": [
    "def createData(data):\n",
    "    K, J, max_val = computeOptimalSplit(data)\n",
    "    data_array = data.values       #creating numpy array of the dataframe\n",
    "    X, Y = data.shape\n",
    "    node_name = data.columns[J]    #getting the name of the feature at column J\n",
    "    left_data = []\n",
    "    right_data = []\n",
    "    for k in range(0,X):\n",
    "        data1 = data.loc[k,:].values    #storing all features of a particular row\n",
    "        if (data_array[k,J]<=max_val):\n",
    "            left_data.append(data1)       #appending a row to left subtree o right according to condition\n",
    "        else:\n",
    "            right_data.append(data1)\n",
    "    left_data_new = pd.DataFrame(left_data, columns = data.columns)    #creating dataframe for left and right data\n",
    "    right_data_new = pd.DataFrame(right_data, columns = data.columns)\n",
    "    left_data_new_modified = left_data_new.drop(node_name, axis = 1)        #dropping Jth column from dataframe\n",
    "    right_data_new_modified = right_data_new.drop(node_name, axis = 1)\n",
    "    return left_data_new_modified, right_data_new_modified \n",
    "\n",
    "       \n",
    "    "
   ]
  },
  {
   "cell_type": "code",
   "execution_count": 92,
   "metadata": {},
   "outputs": [],
   "source": [
    "def build_recurse_tree(node):\n",
    "    data1 = node.dframe\n",
    "    if (stoppingCond(data1) != True):\n",
    "        #split\n",
    "        lcount = 0\n",
    "        dframe_left, dframe_right = createData(data1)     #creating a left dataframe and right dataframe from given data\n",
    "        if(stoppingCond(dframe_left)):\n",
    "            temp = dframe_left.values\n",
    "            classify = temp[0,0]\n",
    "            lcount = lcount + 1\n",
    "            left_node = Node(None, None, dframe_left, 'leaf_left'+str(lcount), None, classify)    #checking and creating left leaf node\n",
    "        else:\n",
    "            K_left, J_left, val_left = computeOptimalSplit(dframe_left)\n",
    "            left_node = Node(None, None, dframe_left, dframe_left.columns[J_left], val_left, 2)  #creating non-leaf node\n",
    "            \n",
    "        if(stoppingCond(dframe_right)):\n",
    "            temp = dframe_right.values\n",
    "            classify = temp[0,0]\n",
    "            lcount = lcount + 1\n",
    "            right_node = Node(None, None, dframe_right, 'leaf_right'+str(lcount), None, classify)     #checking and creating right leaf node\n",
    "        else:\n",
    "            K_right, J_right, val_right = computeOptimalSplit(dframe_right)\n",
    "            right_node = Node(None, None, dframe_right, dframe_right.columns[J_right], val_right, 2)  #creating non-leaf node\n",
    "        node.children = [left_node, right_node]    #setting the nodes as child nodes of given node\n",
    "        \n",
    "        build_recurse_tree(left_node)    #recursively calling function for building tree\n",
    "        build_recurse_tree(right_node)\n",
    "    return node\n"
   ]
  },
  {
   "cell_type": "code",
   "execution_count": 101,
   "metadata": {
    "scrolled": true
   },
   "outputs": [],
   "source": [
    "from anytree import NodeMixin, RenderTree, AsciiStyle, PreOrderIter, PostOrderIter\n",
    "class Node(NodeMixin):\n",
    "    def __init__(self, parent, children, dframe, name, threshold, info):\n",
    "        self.dframe = dframe\n",
    "        self.parent = None           #creating node class by importing NodeMixin\n",
    "        self.name = name\n",
    "        self.threshold = threshold\n",
    "        self.info = info      #info value 2: non leaf node; 0: benign; 1: malignant\n",
    "        self.children = []\n",
    "        \n",
    "        \n",
    "K, J, max_val = computeOptimalSplit(training_data)\n",
    "#data_array = training_data.values       #creating numpy array of the dataframe\n",
    "node_name = training_data.columns[J]    #getting the name of the feature at column J\n",
    "count = 1\n",
    "root = Node(None, None, training_data, node_name, max_val, 2)   #creating root node\n",
    "tree = build_recurse_tree(root)       #building decision tree\n",
    "#tree_copy = tree           #storing multiple copies of the tree for further use\n",
    "tree_copy1 = copy.deepcopy(tree)\n",
    "tree_copy4 = copy.deepcopy(tree)\n",
    "tree_copy5 = copy.deepcopy(tree)\n"
   ]
  },
  {
   "cell_type": "code",
   "execution_count": 76,
   "metadata": {},
   "outputs": [],
   "source": [
    "#-----------------------------------------PRINTING TREE-------------------------------------------------"
   ]
  },
  {
   "cell_type": "code",
   "execution_count": 94,
   "metadata": {},
   "outputs": [
    {
     "name": "stdout",
     "output_type": "stream",
     "text": [
      "Perimeter__max 109.4 2\n",
      "├── Number_of_Concavities__max 0.1708 2\n",
      "│   ├── Area__mean 689.5 2\n",
      "│   │   ├── Texture__max 29.16 2\n",
      "│   │   │   ├── Area__stddev 44.74 2\n",
      "│   │   │   │   ├── leaf_left1 None 0.0\n",
      "│   │   │   │   └── Radius__mean 9.731 2\n",
      "│   │   │   │       ├── leaf_left1 None 0.0\n",
      "│   │   │   │       └── leaf_right2 None 1.0\n",
      "│   │   │   └── Number_of_Concavities__mean 0.04408 2\n",
      "│   │   │       ├── Texture__stddev 0.8265 2\n",
      "│   │   │       │   ├── leaf_left1 None 1.0\n",
      "│   │   │       │   └── Perimeter__stddev 1.4569999999999999 2\n",
      "│   │   │       │       ├── Texture 22.47 2\n",
      "│   │   │       │       │   ├── leaf_left1 None 1.0\n",
      "│   │   │       │       │   └── leaf_right2 None 0.0\n",
      "│   │   │       │       └── leaf_right1 None 0.0\n",
      "│   │   │       └── leaf_right1 None 1.0\n",
      "│   │   └── leaf_right1 None 1.0\n",
      "│   └── Radius__mean 9.029 2\n",
      "│       ├── leaf_left1 None 0.0\n",
      "│       └── leaf_right2 None 1.0\n",
      "└── Number_of_Concavities__mean 0.04835 2\n",
      "    ├── Number_of_Concavities__stddev 0.009443 2\n",
      "    │   ├── Texture 14.93 2\n",
      "    │   │   ├── leaf_left1 None 0.0\n",
      "    │   │   └── leaf_right2 None 1.0\n",
      "    │   └── leaf_right1 None 0.0\n",
      "    └── Texture 13.98 2\n",
      "        ├── Perimeter__mean 102.0 2\n",
      "        │   ├── leaf_left1 None 0.0\n",
      "        │   └── leaf_right2 None 1.0\n",
      "        └── leaf_right1 None 1.0\n"
     ]
    }
   ],
   "source": [
    "for pre, _, node in RenderTree(tree):\n",
    "    treestr = u\"%s%s\" % (pre, node.name)\n",
    "    print(treestr.ljust(8), node.threshold, node.info)    #function to print the tree using Anytree standard function\n"
   ]
  },
  {
   "cell_type": "code",
   "execution_count": 78,
   "metadata": {},
   "outputs": [],
   "source": [
    "#-------------------------------------------------PRUNING-------------------------------------------------"
   ]
  },
  {
   "cell_type": "code",
   "execution_count": 79,
   "metadata": {},
   "outputs": [],
   "source": [
    "def calculateClass(data):\n",
    "    X, Y = data.shape\n",
    "    count0 = 0\n",
    "    count1 = 0\n",
    "    data_array = data.values     #converting dataframe to a numpy array for further calculations\n",
    "    for i in range(0,X):\n",
    "        if(data_array[i,0]==0):\n",
    "            count0 += 1\n",
    "        else:\n",
    "            count1 += 1\n",
    "    if(count0 > count1):     #calculating the number of instances of class 0 and class 1 and returning the greater of the two\n",
    "        \n",
    "        return 0\n",
    "    else:\n",
    "        return 1\n",
    "\n",
    "\n",
    "    \n",
    "    \n",
    "    "
   ]
  },
  {
   "cell_type": "code",
   "execution_count": 80,
   "metadata": {},
   "outputs": [],
   "source": [
    "def validate_tree(data3, node):\n",
    "    if(node.is_leaf == False):\n",
    "        for j in range(0,Y):                #this function is used to run decision tree on the validation set\n",
    "            if(attribute_list[j]==node.name):\n",
    "                if(data3[j]<= node.threshold):\n",
    "                    node = node.children[0]          #moving to left subtree\n",
    "                    break\n",
    "                else:\n",
    "                    node = node.children[1]             #moving to right subtree\n",
    "                    break\n",
    "        return validate_tree(data3, node)    \n",
    "    else:\n",
    "        result2 = node.info                 #if leaf node is reached, then info of the node gives the resulant class\n",
    "        return result2\n",
    "    \n",
    "      \n",
    "           "
   ]
  },
  {
   "cell_type": "code",
   "execution_count": 81,
   "metadata": {},
   "outputs": [],
   "source": [
    "trueValid_array = validation_data.iloc[:,0].values\n",
    "def validate_tree_1(inputData, tree_copy):\n",
    "    result_array1 = []\n",
    "    result2 = 0\n",
    "    for k in range(0,X):\n",
    "        data3 = inputData.iloc[k,:].values          #this function is simply used to pass the validation dataset row wise\n",
    "        result2 = validate_tree(data3, tree_copy)\n",
    "        result_array1.append(result2)\n",
    "    return result_array1\n"
   ]
  },
  {
   "cell_type": "code",
   "execution_count": 103,
   "metadata": {},
   "outputs": [],
   "source": [
    "X, Y = validation_data.shape\n",
    "#result_array1 = []\n",
    "attribute_list = validation_data.columns       #returns the list of all feature names in the validation data\n",
    "validation_data_array = validation_data.values\n",
    "trueValid_array = validation_data.iloc[:,0].values  #returns the list of true class values\n",
    "max_accuracy = 0\n",
    "validation_accuracy_list = []\n",
    "validate_fscore_list = []\n",
    "train_accuracy_list = []\n",
    "train_fscore_list = []\n",
    "def tree_traversal(tree_copy1):\n",
    "    temp_accuracy = 0\n",
    "    max_accuracy = 0\n",
    "    F1Score = 0\n",
    "    Node2 = Node(None, None, None, None, None, None)   #empty node\n",
    "    for node in PreOrderIter(tree_copy1):      #Pre Order Traversal of the tree\n",
    "        #result_array1 = []\n",
    "        if(node.is_leaf == False):           #checking for leaf node\n",
    "            left, right = node.children\n",
    "            node.children = []               #pruning the children of that node\n",
    "            dframe = node.dframe\n",
    "            node.info = calculateClass(dframe)     # calculating class of new leaf node\n",
    "            result_array1 = validate_tree_1(validation_data, tree_copy1)    #getting the array of predicted class\n",
    "            temp_accuracy = accuracy_score(trueValid_array, result_array1)  #calculating accuracy using standard python library\n",
    "            #print(temp_accuracy)\n",
    "            if (temp_accuracy >= max_accuracy):\n",
    "                max_accuracy = temp_accuracy      #storing the max accuracy\n",
    "                Node2 = node                     #storing the corresponding node\n",
    "                #print(node.name)\n",
    "                #F1Score = f1_score(trueValid_array, result_array1)\n",
    "            node.children = [left, right]        #re attaching the child nodes for next iteration\n",
    "            node.info = 2\n",
    "    #print(max_accuracy)\n",
    "    validation_accuracy_list.append(max_accuracy)\n",
    "    #validate_fscore_list.append(F1Score)\n",
    "    return Node2\n",
    "\n",
    "    \n",
    "            \n",
    "\n",
    "\n"
   ]
  },
  {
   "cell_type": "code",
   "execution_count": 104,
   "metadata": {},
   "outputs": [],
   "source": [
    "result_array_test = []\n",
    "attribute_list = test_data.columns\n",
    "test_data_array = test_data.values\n",
    "\n",
    "\n",
    "    \n",
    "def test_tree(data2, node):\n",
    "    if(node.is_leaf == False):\n",
    "        for j in range(0,Y):\n",
    "            if(attribute_list[j]==node.name):\n",
    "                if(data2[j]<= node.threshold):\n",
    "                    node = node.children[0]\n",
    "                    break\n",
    "                else:\n",
    "                    node = node.children[1]\n",
    "                    break\n",
    "        return test_tree(data2, node)    \n",
    "    else:\n",
    "        return node.info\n",
    "def test_tree1(inputData, tree_copy5):\n",
    "    X_test, Y_test = inputData.shape\n",
    "    result_array_test = []\n",
    "    result4 = 0\n",
    "    for k in range(0,X_test):\n",
    "        data3 = inputData.iloc[k,:].values          #this function is simply used to pass the validation dataset row wise\n",
    "        result4 = test_tree(data3, tree_copy5)\n",
    "        result_array_test.append(result4)\n",
    "    return result_array_test\n"
   ]
  },
  {
   "cell_type": "code",
   "execution_count": 105,
   "metadata": {},
   "outputs": [],
   "source": [
    "result_array_train = []\n",
    "attribute_list = training_data.columns\n",
    "training_data_array = training_data.values\n",
    "X_train, Y_train = training_data.shape\n",
    "\n",
    "    \n",
    "def train_tree(data7, node):\n",
    "    if(node.is_leaf == False):\n",
    "        for j in range(0,Y_train):\n",
    "            if(attribute_list[j]==node.name):\n",
    "                if(data2[j]<= node.threshold):\n",
    "                    node = node.children[0]\n",
    "                    break\n",
    "                else:\n",
    "                    node = node.children[1]\n",
    "                    break\n",
    "        return train_tree(data7, node)    \n",
    "    else:\n",
    "        return node.info\n",
    "def train_tree1(inputData_train, tree_copy7):\n",
    "    result_array_train = []\n",
    "    result7 = 0\n",
    "    for k in range(0,X_train):\n",
    "        data6 = inputData_train.iloc[k,:].values          #this function is simply used to pass the validation dataset row wise\n",
    "        result6 = test_tree(data6, tree_copy7)\n",
    "        result_array_train.append(result6)\n",
    "    return result_array_train"
   ]
  },
  {
   "cell_type": "code",
   "execution_count": 107,
   "metadata": {},
   "outputs": [
    {
     "data": {
      "image/png": "[encoded data removed]",
      "text/plain": [
       "<Figure size 432x288 with 1 Axes>"
      ]
     },
     "metadata": {
      "needs_background": "light"
     },
     "output_type": "display_data"
    },
    {
     "data": {
      "image/png": "[encoded data removed]",
      "text/plain": [
       "<Figure size 432x288 with 1 Axes>"
      ]
     },
     "metadata": {
      "needs_background": "light"
     },
     "output_type": "display_data"
    },
    {
     "name": "stdout",
     "output_type": "stream",
     "text": [
      "Perimeter__max\n",
      "[0.34210526315789475, 0.03508771929824561, 0.30701754385964913, 0.03508771929824561, 0.0, 0.0]\n",
      "[]\n",
      "[0.4371859296482412, 0.41457286432160806, 0.0, 0.4371859296482412, 0.41457286432160806, 0.0]\n",
      "[9, 7, 1]\n"
     ]
    }
   ],
   "source": [
    "leaf_count_array = []\n",
    "test_true_array = test_data.iloc[:,0].values\n",
    "train_true_array = training_data.iloc[:,0].values\n",
    "validate_true_array = validation_data.iloc[:,0].values\n",
    "test_accuracy_list = []\n",
    "validate_accuracy_list = []\n",
    "\n",
    "def pruneSingleGreedyNode(tree_copy1):\n",
    "    Node2 = tree_traversal(tree_copy1)     #getting the node that will be pruned\n",
    "    leaf_count = 0\n",
    "    for node3 in PreOrderIter(tree_copy1):\n",
    "        if(node3 == Node2):\n",
    "            dframe = node.dframe\n",
    "            node3.children = []\n",
    "            node.info = calculateClass(dframe)\n",
    "    if (tree_copy1.is_leaf == False):\n",
    "        for pre, _, nodeX in RenderTree(tree_copy1):       # printing the pruned tree\n",
    "            #treestr = u\"%s%s\" % (pre, nodeX.name)\n",
    "            #print(treestr.ljust(8), nodeX.threshold, nodeX.info)\n",
    "            if(nodeX.is_leaf == True):\n",
    "                leaf_count += 1\n",
    "        #print('\\n \\n \\n')\n",
    "        leaf_count_array.append(leaf_count)\n",
    "        test_predictions = test_tree1(test_data, tree_copy1)\n",
    "        \n",
    "        test_accuracy = accuracy_score(test_true_array, test_predictions)\n",
    "        #test_fscore = f1_score(test_true_array, test_predictions)\n",
    "        \n",
    "        test_accuracy_list.append(test_accuracy)\n",
    "        #test_fscore_list.append(test_fscore)\n",
    "        \n",
    "        train_predictions = train_tree1(training_data, tree_copy1)\n",
    "        \n",
    "        train_accuracy = accuracy_score(train_true_array, train_predictions)\n",
    "        #train_fscore = f1_score(train_true_array, train_predictions)\n",
    "        \n",
    "        train_accuracy_list.append(train_accuracy)\n",
    "        #train_fscore_list.append(train_fscore)\n",
    "        \n",
    "        validate_predictions = test_tree1(validation_data, tree_copy1)\n",
    "        \n",
    "        validate_accuracy = accuracy_score(validate_true_array, validate_predictions)\n",
    "        #validate_fscore = f1_score(validate_true_array, validate_predictions)\n",
    "        \n",
    "        test_accuracy_list.append(validate_accuracy)\n",
    "        #validate_fscore_list.append(validate_fscore)\n",
    "        \n",
    "        fpr_train, tpr_train, thresholds_train = roc_curve(train_true_array, train_predictions)\n",
    "        precision_train, recall_train, thresholds1_train = precision_recall_curve(train_true_array, train_predictions)\n",
    "        roc_auc_train = auc(fpr_train,tpr_train)\n",
    "        #pr_auc_train = auc(precision_train, recall_train)\n",
    "        \n",
    "        fpr_test, tpr_test, thresholds_test = roc_curve(test_true_array, test_predictions)\n",
    "        precision_test, recall_test, thresholds1_test = precision_recall_curve(test_true_array, test_predictions)\n",
    "        roc_auc_test = auc(fpr_test,tpr_test)\n",
    "        #pr_auc_test = auc(precision_test, recall_test)\n",
    "        \n",
    "        fpr_validate, tpr_validate, thresholds_validate = roc_curve(validate_true_array, validate_predictions)\n",
    "        precision_validate, recall_validate, thresholds_ = precision_recall_curve(validate_true_array, validate_predictions)\n",
    "        roc_auc_validate = auc(fpr_validate,tpr_validate)\n",
    "        #pr_auc_validate = auc(precision_validate, recall_validate)\n",
    "        \n",
    "        plt.title('Receiver Operating Characteristic')\n",
    "        plt.plot(fpr_train, tpr_train, label = 'Train AUC = %0.2f' %roc_auc_train )\n",
    "        plt.plot(fpr_test, tpr_test, label = 'Test AUC = %0.2f' % roc_auc_test)\n",
    "        plt.plot(fpr_validate, tpr_validate, label = 'Validate AUC = %0.2f' % roc_auc_validate)\n",
    "        plt.legend(loc = 'lower right')\n",
    "        plt.plot([0, 1], [0, 1],'r--')\n",
    "        plt.xlim([0, 1])\n",
    "        plt.ylim([0, 1])\n",
    "        plt.ylabel('True Positive Rate')\n",
    "        plt.xlabel('False Positive Rate')\n",
    "        plt.show()\n",
    "\n",
    "#         plt.title('Precision Recall Curve')\n",
    "#         plt.plot(recall_train, precision_train, label = 'Train AUC = ')\n",
    "#         plt.plot(recall_test, precision_test, label = 'Test AUC = %0.2f' % pr_auc_test)\n",
    "#         plt.plot(recall_validate, precision_validate, label = 'Validate AUC = %0.2f' % pr_auc_validate)\n",
    "#         plt.legend(loc = 'lower right')\n",
    "#         #plt.plot([0, 1], [0, 1],'r--')\n",
    "#         plt.xlim([0, 1])\n",
    "#         plt.ylim([0, 1])\n",
    "#         plt.ylabel('Precision')\n",
    "#         plt.xlabel('Recall')\n",
    "#         plt.show()\n",
    "        \n",
    "        pruneSingleGreedyNode(tree_copy1)\n",
    "    else:\n",
    "        print(tree_copy1.name)\n",
    "        leaf_count_array.append(1)\n",
    "        test_predictions = test_tree1(test_data, tree_copy1)\n",
    "        test_accuracy = accuracy_score(test_true_array, test_predictions)\n",
    "        test_accuracy_list.append(test_accuracy)\n",
    "        #test_fscore = f1_score(test_true_array, test_predictions)\n",
    "        #test_fscore_list.append(test_fscore)\n",
    "        \n",
    "        train_predictions = train_tree1(training_data, tree_copy1)\n",
    "        train_accuracy = accuracy_score(train_true_array, train_predictions)\n",
    "        #train_fscore = f1_score(train_true_array, train_predictions)\n",
    "        train_accuracy_list.append(train_accuracy)\n",
    "        #train_fscore_list.append(train_fscore)\n",
    "        \n",
    "        validate_predictions = test_tree1(validation_data, tree_copy1)        \n",
    "        validate_accuracy = accuracy_score(validate_true_array, validate_predictions)\n",
    "        #validate_fscore = f1_score(validate_true_array, validate_predictions)        \n",
    "        test_accuracy_list.append(validate_accuracy)\n",
    "        #validate_fscore_list.append(validate_fscore)\n",
    "        \n",
    "pruneSingleGreedyNode(tree_copy4)\n",
    "print(test_accuracy_list)\n",
    "#print(test_fscore_list)\n",
    "print(validate_accuracy_list)\n",
    "#print(validate_fscore_list)\n",
    "print(train_accuracy_list)\n",
    "#print(train_fscore_list)\n",
    "print(leaf_count_array)"
   ]
  },
  {
   "cell_type": "code",
   "execution_count": 108,
   "metadata": {},
   "outputs": [
    {
     "ename": "ValueError",
     "evalue": "x and y must have same first dimension, but have shapes (3,) and (6,)",
     "output_type": "error",
     "traceback": [
      "\u001b[1;31m---------------------------------------------------------------------------\u001b[0m",
      "\u001b[1;31mValueError\u001b[0m                                Traceback (most recent call last)",
      "\u001b[1;32m<ipython-input-108-06c814c4058e>\u001b[0m in \u001b[0;36m<module>\u001b[1;34m\u001b[0m\n\u001b[1;32m----> 1\u001b[1;33m \u001b[0mplt\u001b[0m\u001b[1;33m.\u001b[0m\u001b[0mplot\u001b[0m\u001b[1;33m(\u001b[0m\u001b[0mleaf_count_array\u001b[0m\u001b[1;33m,\u001b[0m \u001b[0mtest_accuracy_list\u001b[0m\u001b[1;33m,\u001b[0m \u001b[0mlabel\u001b[0m\u001b[1;33m=\u001b[0m\u001b[1;34m'TEST'\u001b[0m\u001b[1;33m)\u001b[0m\u001b[1;33m\u001b[0m\u001b[1;33m\u001b[0m\u001b[0m\n\u001b[0m\u001b[0;32m      2\u001b[0m \u001b[0mplt\u001b[0m\u001b[1;33m.\u001b[0m\u001b[0mplot\u001b[0m\u001b[1;33m(\u001b[0m\u001b[0mleaf_count_array\u001b[0m\u001b[1;33m,\u001b[0m \u001b[0mtrain_accuracy_list\u001b[0m\u001b[1;33m,\u001b[0m \u001b[0mlabel\u001b[0m\u001b[1;33m=\u001b[0m\u001b[1;34m'TRAIN'\u001b[0m\u001b[1;33m)\u001b[0m\u001b[1;33m\u001b[0m\u001b[1;33m\u001b[0m\u001b[0m\n\u001b[0;32m      3\u001b[0m \u001b[0mplt\u001b[0m\u001b[1;33m.\u001b[0m\u001b[0mplot\u001b[0m\u001b[1;33m(\u001b[0m\u001b[0mleaf_count_array\u001b[0m\u001b[1;33m,\u001b[0m \u001b[0mvalidation_accuracy_list\u001b[0m\u001b[1;33m,\u001b[0m \u001b[0mlabel\u001b[0m\u001b[1;33m=\u001b[0m\u001b[1;34m'VALIDATION'\u001b[0m\u001b[1;33m)\u001b[0m\u001b[1;33m\u001b[0m\u001b[1;33m\u001b[0m\u001b[0m\n\u001b[0;32m      4\u001b[0m \u001b[0mplt\u001b[0m\u001b[1;33m.\u001b[0m\u001b[0mylabel\u001b[0m\u001b[1;33m(\u001b[0m\u001b[1;34m'ACCURACY'\u001b[0m\u001b[1;33m)\u001b[0m\u001b[1;33m\u001b[0m\u001b[1;33m\u001b[0m\u001b[0m\n\u001b[0;32m      5\u001b[0m \u001b[0mplt\u001b[0m\u001b[1;33m.\u001b[0m\u001b[0mxlabel\u001b[0m\u001b[1;33m(\u001b[0m\u001b[1;34m'LEAF NODE COUNT'\u001b[0m\u001b[1;33m)\u001b[0m\u001b[1;33m\u001b[0m\u001b[1;33m\u001b[0m\u001b[0m\n",
      "\u001b[1;32m~\\Anaconda3\\lib\\site-packages\\matplotlib\\pyplot.py\u001b[0m in \u001b[0;36mplot\u001b[1;34m(scalex, scaley, data, *args, **kwargs)\u001b[0m\n\u001b[0;32m   2787\u001b[0m     return gca().plot(\n\u001b[0;32m   2788\u001b[0m         *args, scalex=scalex, scaley=scaley, **({\"data\": data} if data\n\u001b[1;32m-> 2789\u001b[1;33m         is not None else {}), **kwargs)\n\u001b[0m\u001b[0;32m   2790\u001b[0m \u001b[1;33m\u001b[0m\u001b[0m\n\u001b[0;32m   2791\u001b[0m \u001b[1;33m\u001b[0m\u001b[0m\n",
      "\u001b[1;32m~\\Anaconda3\\lib\\site-packages\\matplotlib\\axes\\_axes.py\u001b[0m in \u001b[0;36mplot\u001b[1;34m(self, scalex, scaley, data, *args, **kwargs)\u001b[0m\n\u001b[0;32m   1664\u001b[0m         \"\"\"\n\u001b[0;32m   1665\u001b[0m         \u001b[0mkwargs\u001b[0m \u001b[1;33m=\u001b[0m \u001b[0mcbook\u001b[0m\u001b[1;33m.\u001b[0m\u001b[0mnormalize_kwargs\u001b[0m\u001b[1;33m(\u001b[0m\u001b[0mkwargs\u001b[0m\u001b[1;33m,\u001b[0m \u001b[0mmlines\u001b[0m\u001b[1;33m.\u001b[0m\u001b[0mLine2D\u001b[0m\u001b[1;33m.\u001b[0m\u001b[0m_alias_map\u001b[0m\u001b[1;33m)\u001b[0m\u001b[1;33m\u001b[0m\u001b[1;33m\u001b[0m\u001b[0m\n\u001b[1;32m-> 1666\u001b[1;33m         \u001b[0mlines\u001b[0m \u001b[1;33m=\u001b[0m \u001b[1;33m[\u001b[0m\u001b[1;33m*\u001b[0m\u001b[0mself\u001b[0m\u001b[1;33m.\u001b[0m\u001b[0m_get_lines\u001b[0m\u001b[1;33m(\u001b[0m\u001b[1;33m*\u001b[0m\u001b[0margs\u001b[0m\u001b[1;33m,\u001b[0m \u001b[0mdata\u001b[0m\u001b[1;33m=\u001b[0m\u001b[0mdata\u001b[0m\u001b[1;33m,\u001b[0m \u001b[1;33m**\u001b[0m\u001b[0mkwargs\u001b[0m\u001b[1;33m)\u001b[0m\u001b[1;33m]\u001b[0m\u001b[1;33m\u001b[0m\u001b[1;33m\u001b[0m\u001b[0m\n\u001b[0m\u001b[0;32m   1667\u001b[0m         \u001b[1;32mfor\u001b[0m \u001b[0mline\u001b[0m \u001b[1;32min\u001b[0m \u001b[0mlines\u001b[0m\u001b[1;33m:\u001b[0m\u001b[1;33m\u001b[0m\u001b[1;33m\u001b[0m\u001b[0m\n\u001b[0;32m   1668\u001b[0m             \u001b[0mself\u001b[0m\u001b[1;33m.\u001b[0m\u001b[0madd_line\u001b[0m\u001b[1;33m(\u001b[0m\u001b[0mline\u001b[0m\u001b[1;33m)\u001b[0m\u001b[1;33m\u001b[0m\u001b[1;33m\u001b[0m\u001b[0m\n",
      "\u001b[1;32m~\\Anaconda3\\lib\\site-packages\\matplotlib\\axes\\_base.py\u001b[0m in \u001b[0;36m__call__\u001b[1;34m(self, *args, **kwargs)\u001b[0m\n\u001b[0;32m    223\u001b[0m                 \u001b[0mthis\u001b[0m \u001b[1;33m+=\u001b[0m \u001b[0margs\u001b[0m\u001b[1;33m[\u001b[0m\u001b[1;36m0\u001b[0m\u001b[1;33m]\u001b[0m\u001b[1;33m,\u001b[0m\u001b[1;33m\u001b[0m\u001b[1;33m\u001b[0m\u001b[0m\n\u001b[0;32m    224\u001b[0m                 \u001b[0margs\u001b[0m \u001b[1;33m=\u001b[0m \u001b[0margs\u001b[0m\u001b[1;33m[\u001b[0m\u001b[1;36m1\u001b[0m\u001b[1;33m:\u001b[0m\u001b[1;33m]\u001b[0m\u001b[1;33m\u001b[0m\u001b[1;33m\u001b[0m\u001b[0m\n\u001b[1;32m--> 225\u001b[1;33m             \u001b[1;32myield\u001b[0m \u001b[1;32mfrom\u001b[0m \u001b[0mself\u001b[0m\u001b[1;33m.\u001b[0m\u001b[0m_plot_args\u001b[0m\u001b[1;33m(\u001b[0m\u001b[0mthis\u001b[0m\u001b[1;33m,\u001b[0m \u001b[0mkwargs\u001b[0m\u001b[1;33m)\u001b[0m\u001b[1;33m\u001b[0m\u001b[1;33m\u001b[0m\u001b[0m\n\u001b[0m\u001b[0;32m    226\u001b[0m \u001b[1;33m\u001b[0m\u001b[0m\n\u001b[0;32m    227\u001b[0m     \u001b[1;32mdef\u001b[0m \u001b[0mget_next_color\u001b[0m\u001b[1;33m(\u001b[0m\u001b[0mself\u001b[0m\u001b[1;33m)\u001b[0m\u001b[1;33m:\u001b[0m\u001b[1;33m\u001b[0m\u001b[1;33m\u001b[0m\u001b[0m\n",
      "\u001b[1;32m~\\Anaconda3\\lib\\site-packages\\matplotlib\\axes\\_base.py\u001b[0m in \u001b[0;36m_plot_args\u001b[1;34m(self, tup, kwargs)\u001b[0m\n\u001b[0;32m    389\u001b[0m             \u001b[0mx\u001b[0m\u001b[1;33m,\u001b[0m \u001b[0my\u001b[0m \u001b[1;33m=\u001b[0m \u001b[0mindex_of\u001b[0m\u001b[1;33m(\u001b[0m\u001b[0mtup\u001b[0m\u001b[1;33m[\u001b[0m\u001b[1;33m-\u001b[0m\u001b[1;36m1\u001b[0m\u001b[1;33m]\u001b[0m\u001b[1;33m)\u001b[0m\u001b[1;33m\u001b[0m\u001b[1;33m\u001b[0m\u001b[0m\n\u001b[0;32m    390\u001b[0m \u001b[1;33m\u001b[0m\u001b[0m\n\u001b[1;32m--> 391\u001b[1;33m         \u001b[0mx\u001b[0m\u001b[1;33m,\u001b[0m \u001b[0my\u001b[0m \u001b[1;33m=\u001b[0m \u001b[0mself\u001b[0m\u001b[1;33m.\u001b[0m\u001b[0m_xy_from_xy\u001b[0m\u001b[1;33m(\u001b[0m\u001b[0mx\u001b[0m\u001b[1;33m,\u001b[0m \u001b[0my\u001b[0m\u001b[1;33m)\u001b[0m\u001b[1;33m\u001b[0m\u001b[1;33m\u001b[0m\u001b[0m\n\u001b[0m\u001b[0;32m    392\u001b[0m \u001b[1;33m\u001b[0m\u001b[0m\n\u001b[0;32m    393\u001b[0m         \u001b[1;32mif\u001b[0m \u001b[0mself\u001b[0m\u001b[1;33m.\u001b[0m\u001b[0mcommand\u001b[0m \u001b[1;33m==\u001b[0m \u001b[1;34m'plot'\u001b[0m\u001b[1;33m:\u001b[0m\u001b[1;33m\u001b[0m\u001b[1;33m\u001b[0m\u001b[0m\n",
      "\u001b[1;32m~\\Anaconda3\\lib\\site-packages\\matplotlib\\axes\\_base.py\u001b[0m in \u001b[0;36m_xy_from_xy\u001b[1;34m(self, x, y)\u001b[0m\n\u001b[0;32m    268\u001b[0m         \u001b[1;32mif\u001b[0m \u001b[0mx\u001b[0m\u001b[1;33m.\u001b[0m\u001b[0mshape\u001b[0m\u001b[1;33m[\u001b[0m\u001b[1;36m0\u001b[0m\u001b[1;33m]\u001b[0m \u001b[1;33m!=\u001b[0m \u001b[0my\u001b[0m\u001b[1;33m.\u001b[0m\u001b[0mshape\u001b[0m\u001b[1;33m[\u001b[0m\u001b[1;36m0\u001b[0m\u001b[1;33m]\u001b[0m\u001b[1;33m:\u001b[0m\u001b[1;33m\u001b[0m\u001b[1;33m\u001b[0m\u001b[0m\n\u001b[0;32m    269\u001b[0m             raise ValueError(\"x and y must have same first dimension, but \"\n\u001b[1;32m--> 270\u001b[1;33m                              \"have shapes {} and {}\".format(x.shape, y.shape))\n\u001b[0m\u001b[0;32m    271\u001b[0m         \u001b[1;32mif\u001b[0m \u001b[0mx\u001b[0m\u001b[1;33m.\u001b[0m\u001b[0mndim\u001b[0m \u001b[1;33m>\u001b[0m \u001b[1;36m2\u001b[0m \u001b[1;32mor\u001b[0m \u001b[0my\u001b[0m\u001b[1;33m.\u001b[0m\u001b[0mndim\u001b[0m \u001b[1;33m>\u001b[0m \u001b[1;36m2\u001b[0m\u001b[1;33m:\u001b[0m\u001b[1;33m\u001b[0m\u001b[1;33m\u001b[0m\u001b[0m\n\u001b[0;32m    272\u001b[0m             raise ValueError(\"x and y can be no greater than 2-D, but have \"\n",
      "\u001b[1;31mValueError\u001b[0m: x and y must have same first dimension, but have shapes (3,) and (6,)"
     ]
    },
    {
     "data": {
      "image/png": "[encoded data removed]",
      "text/plain": [
       "<Figure size 432x288 with 1 Axes>"
      ]
     },
     "metadata": {
      "needs_background": "light"
     },
     "output_type": "display_data"
    }
   ],
   "source": [
    "plt.plot(leaf_count_array, test_accuracy_list, label='TEST')\n",
    "plt.plot(leaf_count_array, train_accuracy_list, label='TRAIN')\n",
    "plt.plot(leaf_count_array, validation_accuracy_list, label='VALIDATION')\n",
    "plt.ylabel('ACCURACY')\n",
    "plt.xlabel('LEAF NODE COUNT')\n",
    "#plt.plot(range(5), range(5), label=)\n",
    "plt.legend()"
   ]
  },
  {
   "cell_type": "code",
   "execution_count": 97,
   "metadata": {},
   "outputs": [],
   "source": [
    "from graphviz import Digraph\n",
    "def insertToGVPostOrder(node):\n",
    "    if node.children[0].is_leaf== True and  node.children[1].is_leaf==True:\n",
    "        dg.node(str(node.name), 'label='+str(node.name))\n",
    "    if node.children[0].is_leaf== False:\n",
    "        insertToGVPostOrder(node.children[0])    \n",
    "    if node.children[1].is_leaf== False:\n",
    "        insertToGVPostOrder(node.children[1])\n",
    "    \n",
    "    if node.children[0].is_leaf== False and  node.children[1].is_leaf== False:\n",
    "        dg.node(str(node.threshold)+str(node.name), 'label='+str(node.name)+'\\n'+str(node.threshold))        \n",
    "        dg.edge(str(node.info)+str(node.name), str(node.children[0].name), label='False')    \n",
    "        dg.edge(str(node.info)+str(node.name), str(node.children[1].name), label='True')\n",
    "    \n",
    "    return dg"
   ]
  },
  {
   "cell_type": "code",
   "execution_count": 98,
   "metadata": {},
   "outputs": [
    {
     "data": {
      "text/plain": [
       "'vis/tree.pdf'"
      ]
     },
     "execution_count": 98,
     "metadata": {},
     "output_type": "execute_result"
    }
   ],
   "source": [
    "dg = Digraph('Tree', filename='abc.gv')\n",
    "dg = insertToGVPostOrder(tree)\n",
    "dg.render('vis/bcd.gv', view=True) \n",
    "'vis/tree.pdf'"
   ]
  },
  {
   "cell_type": "code",
   "execution_count": null,
   "metadata": {},
   "outputs": [],
   "source": []
  },
  {
   "cell_type": "code",
   "execution_count": null,
   "metadata": {},
   "outputs": [],
   "source": [
    "# ---------------------------------------TESTING-----------------------------------------------------"
   ]
  },
  {
   "cell_type": "code",
   "execution_count": 189,
   "metadata": {},
   "outputs": [],
   "source": [
    "'''\n",
    "X, Y = test_data.shape\n",
    "result_array_test = []\n",
    "attribute_list = test_data.columns\n",
    "test_data_array = test_data.values\n",
    "\n",
    "\n",
    "    \n",
    "def test_tree(data2, node):\n",
    "    if(node.info == 2):\n",
    "        for j in range(0,Y):\n",
    "            if(attribute_list[j]==node.name):\n",
    "                if(data2[j]<= node.threshold):\n",
    "                    node = node.children[0]\n",
    "                else:\n",
    "                    node = node.children[1]\n",
    "        test_tree(data2, node)    \n",
    "    else:\n",
    "        result_array_test.append(node.info)\n",
    "def test_tree1(inputData, tree_copy5):\n",
    "    X_test, Y_test = inputData.shape\n",
    "    result_array_test = []\n",
    "    result4 = 0\n",
    "    for k in range(0,X_test):\n",
    "        data3 = inputData.iloc[k,:].values          #this function is simply used to pass the validation dataset row wise\n",
    "        result2 = test_tree(data3, tree_copy5)\n",
    "        result_array_test.append(result4)\n",
    "    return result_array_test\n",
    "        \n",
    "for i in range(0,X):\n",
    "    data2 = test_data.iloc[i,:].values\n",
    "    test_tree(data2, tree_copy)\n",
    "'''    "
   ]
  },
  {
   "cell_type": "code",
   "execution_count": null,
   "metadata": {},
   "outputs": [],
   "source": [
    "#-----------------------------------PRINTING SCORES------------------------------------------------------------------"
   ]
  },
  {
   "cell_type": "code",
   "execution_count": 191,
   "metadata": {},
   "outputs": [
    {
     "name": "stdout",
     "output_type": "stream",
     "text": [
      "Accuracy: 0.6578947368421053\n",
      "Precision: 0.0\n",
      "Recall: 0.0\n",
      "F Score: 0.0\n",
      "False Positive Rate: [0. 1.]\n",
      "True Positive Rate: [0. 1.]\n",
      "Area Under Curve ROC: 0.5\n",
      "Area Under Curve PR: 0.32894736842105265\n"
     ]
    },
    {
     "data": {
      "image/png": "[encoded data removed]",
      "text/plain": [
       "<Figure size 432x288 with 1 Axes>"
      ]
     },
     "metadata": {
      "needs_background": "light"
     },
     "output_type": "display_data"
    },
    {
     "data": {
      "image/png": "[encoded data removed]",
      "text/plain": [
       "<Figure size 432x288 with 1 Axes>"
      ]
     },
     "metadata": {
      "needs_background": "light"
     },
     "output_type": "display_data"
    }
   ],
   "source": [
    "'''\n",
    "def print_scores(true_array, result_array, count):\n",
    "    AccuracyScore = accuracy_score(true_array, result_array)\n",
    "    PrecisionScore = precision_score(true_array, result_array)\n",
    "    RecallScore = recall_score(true_array, result_array)\n",
    "    FScore = f1_score(true_array, result_array)\n",
    "    \n",
    "    \n",
    "    print('---------------Iteration-------------------', count)\n",
    "    print('Accuracy:', str(AccuracyScore))\n",
    "#     print('Precision:', str(PrecisionScore))\n",
    "#     print('Recall:', str(RecallScore))\n",
    "#     print('F Score:', str(FScore))\n",
    "#     print('False Positive Rate:', fpr)\n",
    "#     print('True Positive Rate:', tpr)\n",
    "#     #print('Thresholds:', thresholds)\n",
    "#     #print(precision1)\n",
    "#     #print(recall1)\n",
    "#     print('Area Under Curve ROC:', roc_auc)\n",
    "#     print('Area Under Curve PR:', pr_auc)\n",
    "\n",
    "\n",
    "    plt.title('Receiver Operating Characteristic')\n",
    "    plt.plot(fpr, tpr, 'b', label = 'AUC = %0.2f' % roc_auc)\n",
    "    plt.legend(loc = 'lower right')\n",
    "    plt.plot([0, 1], [0, 1],'r--')\n",
    "    plt.xlim([0, 1])\n",
    "    plt.ylim([0, 1])\n",
    "    plt.ylabel('True Positive Rate')\n",
    "    plt.xlabel('False Positive Rate')\n",
    "    plt.show()\n",
    "\n",
    "    plt.title('Precision Recall Curve')\n",
    "    plt.plot(recall1, precision1, 'b', label = 'AUC = %0.2f' % roc_auc)\n",
    "    plt.legend(loc = 'lower right')\n",
    "    #plt.plot([0, 1], [0, 1],'r--')\n",
    "    plt.xlim([0, 1])\n",
    "    plt.ylim([0, 1])\n",
    "    plt.ylabel('Precision')\n",
    "    plt.xlabel('Recall')\n",
    "    plt.show()\n",
    "'''    "
   ]
  },
  {
   "cell_type": "code",
   "execution_count": 183,
   "metadata": {},
   "outputs": [],
   "source": [
    "from anytree.exporter import DotExporter\n",
    "# graphviz needs to be installed for the next line!\n",
    "DotExporter(tree).to_picture(\"Tree.png\")\n"
   ]
  },
  {
   "cell_type": "code",
   "execution_count": null,
   "metadata": {},
   "outputs": [],
   "source": []
  }
 ],
 "metadata": {
  "kernelspec": {
   "display_name": "Python 3",
   "language": "python",
   "name": "python3"
  },
  "language_info": {
   "codemirror_mode": {
    "name": "ipython",
    "version": 3
   },
   "file_extension": ".py",
   "mimetype": "text/x-python",
   "name": "python",
   "nbconvert_exporter": "python",
   "pygments_lexer": "ipython3",
   "version": "3.7.3"
  }
 },
 "nbformat": 4,
 "nbformat_minor": 2
}
